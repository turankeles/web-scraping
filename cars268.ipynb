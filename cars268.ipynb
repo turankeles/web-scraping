{
  "cells": [
    {
      "cell_type": "markdown",
      "metadata": {
        "id": "view-in-github",
        "colab_type": "text"
      },
      "source": [
        "<a href=\"https://colab.research.google.com/github/turankeles/web-scraping/blob/main/cars268.ipynb\" target=\"_parent\"><img src=\"https://colab.research.google.com/assets/colab-badge.svg\" alt=\"Open In Colab\"/></a>"
      ]
    },
    {
      "cell_type": "code",
      "execution_count": 1,
      "metadata": {
        "id": "2DaLd6cQZVLM"
      },
      "outputs": [],
      "source": [
        "import time\n",
        "import datetime\n",
        "import pandas as pd \n",
        "import numpy as np \n",
        "import matplotlib.pyplot as plt \n",
        "import seaborn as sns \n",
        "plt.style.use(\"seaborn\")"
      ]
    },
    {
      "cell_type": "code",
      "execution_count": null,
      "metadata": {
        "id": "T6OC-iKjc02z"
      },
      "outputs": [],
      "source": [
        "from selenium import webdriver \n",
        "from selenium.webdriver.common.keys import Keys \n",
        "from bs4 import BeautifulSoup \n",
        "import requests\n",
        "import time\n",
        "mile,price,title,transmission,mpg,engine=[[] for i in range(6)]\n",
        "\n",
        "base=\"https://www.cars.com\"\n",
        "driver=webdriver.Chrome(\"C:/chromedriver.exe\")\n",
        "page=1\n",
        "for i in range(250):\n",
        "    url=f\"https://www.cars.com/shopping/results/?page={page}&page_size=20&list_price_max=&makes[]=&maximum_distance=all&models[]=&stock_type=all&zip=\"\n",
        "    \n",
        "    driver.get(url)\n",
        "    driver.maximize_window\n",
        "    source=driver.page_source\n",
        "    soup=BeautifulSoup(source,\"html.parser\")\n",
        "    \n",
        "    for i in soup.findAll(\"div\",class_=\"vehicle-details\"):\n",
        "        mode=i.findAll(\"a\",class_=\"vehicle-card-link js-gallery-click-link\")\n",
        "        url1=base+mode[0][\"href\"]\n",
        "        driver.get(url1)\n",
        "        source1=driver.page_source\n",
        "        soup1=BeautifulSoup(source1,\"html.parser\")\n",
        "        trans=[soup1.findAll(\"dd\")[i].text.strip(\"\\n\") for i in range(15) ][5]\n",
        "        engin=[soup1.findAll(\"dd\")[i].text.strip(\"\\n\") for i in range(15) ][6]\n",
        "        horse=[soup1.findAll(\"dd\")[i].text.strip(\"\\n\") for i in range(15) ][3].replace(\"\\n\\n\",\"\")[:6]\n",
        "        titl=soup1.findAll(\"h1\",class_=\"listing-title\")[0].text\n",
        "        mil=soup1.findAll(\"div\",class_=\"listing-mileage\")[0].text.strip(\" mi.\").replace(\",\",\"\")\n",
        "        pric=soup1.findAll(\"span\",class_=\"primary-price\")[0].text.strip(\"$\").replace(\",\",\"\")\n",
        "        transmission.append(trans)\n",
        "        mpg.append(horse)\n",
        "        engine.append(engin)\n",
        "        title.append(titl)\n",
        "        price.append(pric)\n",
        "        mile.append(mil)\n",
        "    if page%10==0:\n",
        "      print(page)    \n",
        "    page+=1    \n",
        "    \n"
      ]
    },
    {
      "cell_type": "code",
      "execution_count": 2,
      "metadata": {
        "id": "Lrqs5ZtQZny-"
      },
      "outputs": [],
      "source": [
        "from sklearn.model_selection import train_test_split\n",
        "from sklearn.metrics import accuracy_score\n",
        "from sklearn.tree import DecisionTreeClassifier\n",
        "from sklearn.svm import SVC\n",
        "from sklearn.naive_bayes import GaussianNB"
      ]
    },
    {
      "cell_type": "code",
      "execution_count": 3,
      "metadata": {
        "colab": {
          "base_uri": "https://localhost:8080/"
        },
        "id": "a93RKAbrZn2D",
        "outputId": "002d391c-b6cc-4494-c883-60beb9ed870f"
      },
      "outputs": [
        {
          "output_type": "stream",
          "name": "stdout",
          "text": [
            "(268, 13)\n",
            "0.9074074074074074\n"
          ]
        }
      ],
      "source": [
        "df=pd.read_excel(\"/content/cars.xlsx\")\n",
        "df=df.iloc[:,1:]\n",
        "df=pd.DataFrame([title,mile,price,transmission,mpg,engine]).T\n",
        "df.columns=[\"title\",\"mile\",\"price\",\"transmission\",\"mpg\",\"engine\"]\n",
        "df[\"car\"]=[i.split()[1] for i in df.title]\n",
        "df[\"year\"]=[int(i.split()[0]) for i in df.title]\n",
        "df[\"v_engine\"]=[(i.split()[0].strip(\"L\")) for i in df.engine]\n",
        "df[\"series\"]=[i.split()[2] for i in df.title]\n",
        "from sklearn.preprocessing import OneHotEncoder\n",
        "from sklearn.preprocessing import LabelEncoder\n",
        "encode=LabelEncoder()\n",
        "df[\"encode_series\"]=(encode.fit_transform(df.series))\n",
        "mpeg=[(i.split()[0][:2].strip()) if '0–' not in i or  '–' not in i else 15 for i in df.mpg]\n",
        "mpge=[]\n",
        "for i in mpeg:\n",
        "  if i=='–':\n",
        "    mpge.append(15)\n",
        "  else:\n",
        "    mpge.append(int(i))  \n",
        "df[\"mpge\"]=mpge    \n",
        "df[\"vengine\"]=[float(i) if \".\" in i else 2 for i in df.v_engine]\n",
        "print(df.shape)\n",
        "df\n",
        "tree=DecisionTreeClassifier()\n",
        "X,y=df.loc[:,[\"mile\",\"price\",\"year\",\"vengine\",\"mpge\",\"encode_series\"]].values,df.car\n",
        "xtrain,xtest,ytrain,ytest=train_test_split(X,y,test_size=0.25)\n",
        "\n",
        "while True:\n",
        "  xtrain,xtest,ytrain,ytest=train_test_split(X,y,test_size=0.2)\n",
        "  tree.fit(xtrain,ytrain)\n",
        "  pred_tree=tree.predict(xtest)\n",
        "  score =(accuracy_score(pred_tree,ytest))\n",
        "\n",
        "  # kk=input()\n",
        "  if score>=0.9:\n",
        "    import pickle\n",
        "    pickle.dump(tree,open(\"decisiontree.sav\",\"wb\"))\n",
        "    print(score)\n",
        "    break"
      ]
    },
    {
      "cell_type": "code",
      "execution_count": 4,
      "metadata": {
        "colab": {
          "base_uri": "https://localhost:8080/",
          "height": 300
        },
        "id": "XDsT83o5hgs8",
        "outputId": "1e8ceb94-06bb-47f3-e5d2-c95a029490a1"
      },
      "outputs": [
        {
          "output_type": "stream",
          "name": "stdout",
          "text": [
            " maximum accuracy: 0.7962962962962963 \n",
            " minimum accuracy 0.42592592592592593\n"
          ]
        },
        {
          "output_type": "display_data",
          "data": {
            "image/png": "[encoded data removed]",
            "text/plain": [
              "<Figure size 432x288 with 1 Axes>"
            ]
          },
          "metadata": {
            "needs_background": "light"
          }
        }
      ],
      "source": [
        "def machine(classifier):\n",
        "  a=classifier()\n",
        "  skor=[]\n",
        "  for i in range(100):\n",
        "    xtrain,xtest,ytrain,ytest=train_test_split(X,y,test_size=0.2)\n",
        "    a.fit(xtrain,ytrain)\n",
        "    pred=a.predict(xtest)\n",
        "    skor.append(accuracy_score(pred,ytest))\n",
        "  print(\" maximum accuracy:\",max(skor),\"\\n\",\"minimum accuracy\",min(skor))\n",
        "  plt.plot(skor);\n",
        "\n",
        "machine(DecisionTreeClassifier);  "
      ]
    },
    {
      "cell_type": "code",
      "execution_count": null,
      "metadata": {
        "colab": {
          "base_uri": "https://localhost:8080/",
          "height": 165
        },
        "id": "fULHOg77r77i",
        "outputId": "a333cc51-210f-4986-f705-26ea3c72ea29"
      },
      "outputs": [
        {
          "ename": "NameError",
          "evalue": "ignored",
          "output_type": "error",
          "traceback": [
            "\u001b[0;31m---------------------------------------------------------------------------\u001b[0m",
            "\u001b[0;31mNameError\u001b[0m                                 Traceback (most recent call last)",
            "\u001b[0;32m<ipython-input-1-633337079cd0>\u001b[0m in \u001b[0;36m<module>\u001b[0;34m()\u001b[0m\n\u001b[0;32m----> 1\u001b[0;31m \u001b[0mdf\u001b[0m\u001b[0;34m.\u001b[0m\u001b[0mshape\u001b[0m\u001b[0;34m\u001b[0m\u001b[0;34m\u001b[0m\u001b[0m\n\u001b[0m",
            "\u001b[0;31mNameError\u001b[0m: name 'df' is not defined"
          ]
        }
      ],
      "source": [
        "df.shape"
      ]
    },
    {
      "cell_type": "code",
      "execution_count": null,
      "metadata": {
        "id": "IBa8X0iRhhCT"
      },
      "outputs": [],
      "source": [
        "X,y=df.loc[:,[\"mile\",\"price\",\"year\",\"vengine\",\"mpge\",\"encode_series\"]].values,df.car\n",
        "xtrain,xtest,ytrain,ytest=train_test_split(X,y,test_size=0.25)\n",
        "score=[]\n",
        "for i in range(300):\n",
        "  tree=DecisionTreeClassifier()\n",
        "  xtrain,xtest,ytrain,ytest=train_test_split(X,y,test_size=0.2)\n",
        "  tree.fit(xtrain,ytrain)\n",
        "  pred_tree=tree.predict(xtest)\n",
        "  score.append(accuracy_score(pred_tree,ytest))\n",
        "max(score),min(score)  "
      ]
    },
    {
      "cell_type": "code",
      "execution_count": null,
      "metadata": {
        "id": "ZKTdJZ38Zn4z"
      },
      "outputs": [],
      "source": [
        "from sklearn.preprocessing import OneHotEncoder\n",
        "from sklearn.preprocessing import LabelEncoder\n",
        "encode=LabelEncoder()\n",
        "df[\"encode_series\"]=(encode.fit_transform(df.series))"
      ]
    },
    {
      "cell_type": "code",
      "execution_count": null,
      "metadata": {
        "colab": {
          "base_uri": "https://localhost:8080/",
          "height": 615
        },
        "id": "i67KpKt_Zn7o",
        "outputId": "998e0788-f1d3-4393-fe22-7a2cb6889426"
      },
      "outputs": [
        {
          "name": "stdout",
          "output_type": "stream",
          "text": [
            "(268, 13)\n"
          ]
        },
        {
          "data": {
            "text/html": [
              "<div>\n",
              "<style scoped>\n",
              "    .dataframe tbody tr th:only-of-type {\n",
              "        vertical-align: middle;\n",
              "    }\n",
              "\n",
              "    .dataframe tbody tr th {\n",
              "        vertical-align: top;\n",
              "    }\n",
              "\n",
              "    .dataframe thead th {\n",
              "        text-align: right;\n",
              "    }\n",
              "</style>\n",
              "<table border=\"1\" class=\"dataframe\">\n",
              "  <thead>\n",
              "    <tr style=\"text-align: right;\">\n",
              "      <th></th>\n",
              "      <th>title</th>\n",
              "      <th>mile</th>\n",
              "      <th>price</th>\n",
              "      <th>transmission</th>\n",
              "      <th>mpg</th>\n",
              "      <th>engine</th>\n",
              "      <th>car</th>\n",
              "      <th>year</th>\n",
              "      <th>v_engine</th>\n",
              "      <th>series</th>\n",
              "      <th>encode_series</th>\n",
              "      <th>mpge</th>\n",
              "      <th>vengine</th>\n",
              "    </tr>\n",
              "  </thead>\n",
              "  <tbody>\n",
              "    <tr>\n",
              "      <th>0</th>\n",
              "      <td>2018 BMW 340 i xDrive</td>\n",
              "      <td>22161</td>\n",
              "      <td>44990</td>\n",
              "      <td>8-Speed Automatic</td>\n",
              "      <td>21–31</td>\n",
              "      <td>3.0L I6 24V GDI DOHC Turbo</td>\n",
              "      <td>BMW</td>\n",
              "      <td>2018</td>\n",
              "      <td>3.0</td>\n",
              "      <td>340</td>\n",
              "      <td>4</td>\n",
              "      <td>21</td>\n",
              "      <td>3.0</td>\n",
              "    </tr>\n",
              "    <tr>\n",
              "      <th>1</th>\n",
              "      <td>2021 Toyota 4Runner TRD Off Road Premium</td>\n",
              "      <td>12868</td>\n",
              "      <td>52995</td>\n",
              "      <td>5-Speed Automatic</td>\n",
              "      <td>16–19</td>\n",
              "      <td>4.0L V6 24V MPFI DOHC</td>\n",
              "      <td>Toyota</td>\n",
              "      <td>2021</td>\n",
              "      <td>4.0</td>\n",
              "      <td>4Runner</td>\n",
              "      <td>7</td>\n",
              "      <td>16</td>\n",
              "      <td>4.0</td>\n",
              "    </tr>\n",
              "    <tr>\n",
              "      <th>2</th>\n",
              "      <td>2021 Volkswagen Atlas Cross Sport 3.6L V6 SEL</td>\n",
              "      <td>25899</td>\n",
              "      <td>44634</td>\n",
              "      <td>8-Speed Automatic</td>\n",
              "      <td>18–23</td>\n",
              "      <td>3.6L V6 24V GDI DOHC</td>\n",
              "      <td>Volkswagen</td>\n",
              "      <td>2021</td>\n",
              "      <td>3.6</td>\n",
              "      <td>Atlas</td>\n",
              "      <td>18</td>\n",
              "      <td>18</td>\n",
              "      <td>3.6</td>\n",
              "    </tr>\n",
              "    <tr>\n",
              "      <th>3</th>\n",
              "      <td>2018 Ford Explorer Limited</td>\n",
              "      <td>48672</td>\n",
              "      <td>34800</td>\n",
              "      <td>6-Speed Automatic</td>\n",
              "      <td>18–25</td>\n",
              "      <td>2.3L I4 16V GDI DOHC Turbo</td>\n",
              "      <td>Ford</td>\n",
              "      <td>2018</td>\n",
              "      <td>2.3</td>\n",
              "      <td>Explorer</td>\n",
              "      <td>42</td>\n",
              "      <td>18</td>\n",
              "      <td>2.3</td>\n",
              "    </tr>\n",
              "    <tr>\n",
              "      <th>4</th>\n",
              "      <td>2015 Ford Mustang V6</td>\n",
              "      <td>46427</td>\n",
              "      <td>23245</td>\n",
              "      <td>6-Speed</td>\n",
              "      <td>17–28</td>\n",
              "      <td>3.7L V6 24V MPFI DOHC</td>\n",
              "      <td>Ford</td>\n",
              "      <td>2015</td>\n",
              "      <td>3.7</td>\n",
              "      <td>Mustang</td>\n",
              "      <td>67</td>\n",
              "      <td>17</td>\n",
              "      <td>3.7</td>\n",
              "    </tr>\n",
              "    <tr>\n",
              "      <th>...</th>\n",
              "      <td>...</td>\n",
              "      <td>...</td>\n",
              "      <td>...</td>\n",
              "      <td>...</td>\n",
              "      <td>...</td>\n",
              "      <td>...</td>\n",
              "      <td>...</td>\n",
              "      <td>...</td>\n",
              "      <td>...</td>\n",
              "      <td>...</td>\n",
              "      <td>...</td>\n",
              "      <td>...</td>\n",
              "      <td>...</td>\n",
              "    </tr>\n",
              "    <tr>\n",
              "      <th>263</th>\n",
              "      <td>2017 Toyota RAV4 Hybrid SE</td>\n",
              "      <td>78373</td>\n",
              "      <td>25950</td>\n",
              "      <td>Automatic CVT</td>\n",
              "      <td>34–30</td>\n",
              "      <td>2.5L I4 16V MPFI DOHC Hybrid</td>\n",
              "      <td>Toyota</td>\n",
              "      <td>2017</td>\n",
              "      <td>2.5</td>\n",
              "      <td>RAV4</td>\n",
              "      <td>80</td>\n",
              "      <td>34</td>\n",
              "      <td>2.5</td>\n",
              "    </tr>\n",
              "    <tr>\n",
              "      <th>264</th>\n",
              "      <td>2021 Lincoln Navigator Reserve</td>\n",
              "      <td>16534</td>\n",
              "      <td>82995</td>\n",
              "      <td>10-Speed Automatic</td>\n",
              "      <td>16–20</td>\n",
              "      <td>3.5L V6 24V PDI DOHC Twin Turbo</td>\n",
              "      <td>Lincoln</td>\n",
              "      <td>2021</td>\n",
              "      <td>3.5</td>\n",
              "      <td>Navigator</td>\n",
              "      <td>69</td>\n",
              "      <td>16</td>\n",
              "      <td>3.5</td>\n",
              "    </tr>\n",
              "    <tr>\n",
              "      <th>265</th>\n",
              "      <td>2020 Ford Expedition Max Limited</td>\n",
              "      <td>27441</td>\n",
              "      <td>65125</td>\n",
              "      <td>10-Speed Automatic</td>\n",
              "      <td>16–21</td>\n",
              "      <td>3.5L V6 24V GDI DOHC Twin Turbo</td>\n",
              "      <td>Ford</td>\n",
              "      <td>2020</td>\n",
              "      <td>3.5</td>\n",
              "      <td>Expedition</td>\n",
              "      <td>41</td>\n",
              "      <td>16</td>\n",
              "      <td>3.5</td>\n",
              "    </tr>\n",
              "    <tr>\n",
              "      <th>266</th>\n",
              "      <td>2013 Mercedes-Benz E-Class E 350</td>\n",
              "      <td>87351</td>\n",
              "      <td>17897</td>\n",
              "      <td>7-Speed Automatic</td>\n",
              "      <td>20–28</td>\n",
              "      <td>3.5L V6 24V GDI DOHC</td>\n",
              "      <td>Mercedes-Benz</td>\n",
              "      <td>2013</td>\n",
              "      <td>3.5</td>\n",
              "      <td>E-Class</td>\n",
              "      <td>37</td>\n",
              "      <td>15</td>\n",
              "      <td>3.5</td>\n",
              "    </tr>\n",
              "    <tr>\n",
              "      <th>267</th>\n",
              "      <td>2018 Ford Explorer XLT</td>\n",
              "      <td>46092</td>\n",
              "      <td>33997</td>\n",
              "      <td>6-Speed Automatic</td>\n",
              "      <td>16–22</td>\n",
              "      <td>3.5L V6 24V MPFI DOHC</td>\n",
              "      <td>Ford</td>\n",
              "      <td>2018</td>\n",
              "      <td>3.5</td>\n",
              "      <td>Explorer</td>\n",
              "      <td>42</td>\n",
              "      <td>16</td>\n",
              "      <td>3.5</td>\n",
              "    </tr>\n",
              "  </tbody>\n",
              "</table>\n",
              "<p>268 rows × 13 columns</p>\n",
              "</div>"
            ],
            "text/plain": [
              "                                             title   mile  ...  mpge vengine\n",
              "0                            2018 BMW 340 i xDrive  22161  ...    21     3.0\n",
              "1         2021 Toyota 4Runner TRD Off Road Premium  12868  ...    16     4.0\n",
              "2    2021 Volkswagen Atlas Cross Sport 3.6L V6 SEL  25899  ...    18     3.6\n",
              "3                       2018 Ford Explorer Limited  48672  ...    18     2.3\n",
              "4                             2015 Ford Mustang V6  46427  ...    17     3.7\n",
              "..                                             ...    ...  ...   ...     ...\n",
              "263                     2017 Toyota RAV4 Hybrid SE  78373  ...    34     2.5\n",
              "264                 2021 Lincoln Navigator Reserve  16534  ...    16     3.5\n",
              "265               2020 Ford Expedition Max Limited  27441  ...    16     3.5\n",
              "266               2013 Mercedes-Benz E-Class E 350  87351  ...    15     3.5\n",
              "267                         2018 Ford Explorer XLT  46092  ...    16     3.5\n",
              "\n",
              "[268 rows x 13 columns]"
            ]
          },
          "execution_count": 24,
          "metadata": {},
          "output_type": "execute_result"
        }
      ],
      "source": [
        "print(df.shape)\n",
        "df"
      ]
    },
    {
      "cell_type": "code",
      "execution_count": null,
      "metadata": {
        "id": "jyw6H2haZn-q"
      },
      "outputs": [],
      "source": [
        "mpeg=[(i.split()[0][:2].strip()) if '0–' not in i or  '–' not in i else 15 for i in df.mpg]\n",
        "mpge=[]\n",
        "for i in mpeg:\n",
        "  if i=='–':\n",
        "    mpge.append(15)\n",
        "  else:\n",
        "    mpge.append(int(i))  \n",
        "df[\"mpge\"]=mpge    "
      ]
    },
    {
      "cell_type": "code",
      "execution_count": null,
      "metadata": {
        "colab": {
          "base_uri": "https://localhost:8080/"
        },
        "id": "tOft9lika9wU",
        "outputId": "0617fc00-3607-4f51-a58c-6d2309c2f8e0"
      },
      "outputs": [
        {
          "data": {
            "text/plain": [
              "(108, 268)"
            ]
          },
          "execution_count": 13,
          "metadata": {},
          "output_type": "execute_result"
        }
      ],
      "source": [
        "len(set(df.series)),len(df.series)"
      ]
    },
    {
      "cell_type": "code",
      "execution_count": null,
      "metadata": {
        "colab": {
          "base_uri": "https://localhost:8080/"
        },
        "id": "cg_ri3OWbFF5",
        "outputId": "4fe36bc8-b512-44b2-c704-cc6329a857df"
      },
      "outputs": [
        {
          "data": {
            "text/plain": [
              "Index(['title', 'mile', 'price', 'transmission', 'mpg', 'engine', 'car',\n",
              "       'year', 'v_engine', 'series', 'encode_series', 'mpge'],\n",
              "      dtype='object')"
            ]
          },
          "execution_count": 15,
          "metadata": {},
          "output_type": "execute_result"
        }
      ],
      "source": [
        "df.columns"
      ]
    },
    {
      "cell_type": "code",
      "execution_count": null,
      "metadata": {
        "id": "gUJ1FmDtbvzc"
      },
      "outputs": [],
      "source": [
        "df[\"vengine\"]=[float(i) if \".\" in i else 2 for i in df.v_engine]"
      ]
    },
    {
      "cell_type": "code",
      "execution_count": null,
      "metadata": {
        "id": "AdPJc04Ua9zG"
      },
      "outputs": [],
      "source": [
        "X,y=df.loc[:,[\"mile\",\"price\",\"year\",\"vengine\",\"mpge\",\"encode_series\"]].values,df.car\n",
        "xtrain,xtest,ytrain,ytest=train_test_split(X,y,test_size=0.25)"
      ]
    },
    {
      "cell_type": "code",
      "execution_count": null,
      "metadata": {
        "colab": {
          "base_uri": "https://localhost:8080/"
        },
        "id": "aSfBp4Sea94-",
        "outputId": "462862db-5e33-41cf-9c97-7b403619e165"
      },
      "outputs": [
        {
          "data": {
            "text/plain": [
              "(0.8148148148148148, 0.4074074074074074)"
            ]
          },
          "execution_count": 31,
          "metadata": {},
          "output_type": "execute_result"
        }
      ],
      "source": [
        "score=[]\n",
        "for i in range(300):\n",
        "  tree=DecisionTreeClassifier()\n",
        "  xtrain,xtest,ytrain,ytest=train_test_split(X,y,test_size=0.2)\n",
        "  tree.fit(xtrain,ytrain)\n",
        "  pred_tree=tree.predict(xtest)\n",
        "  score.append(accuracy_score(pred_tree,ytest))\n",
        "max(score),min(score)  "
      ]
    },
    {
      "cell_type": "code",
      "execution_count": null,
      "metadata": {
        "id": "Sb9lGkoAa99B"
      },
      "outputs": [],
      "source": [
        "tree=DecisionTreeClassifier()\n",
        "\n",
        "while True:\n",
        "  xtrain,xtest,ytrain,ytest=train_test_split(X,y,test_size=0.2)\n",
        "  tree.fit(xtrain,ytrain)\n",
        "  pred_tree=tree.predict(xtest)\n",
        "  score =(accuracy_score(pred_tree,ytest))\n",
        "\n",
        "  # kk=input()\n",
        "  if score>=0.945:\n",
        "    import pickle\n",
        "    pickle.dump(tree,open(\"decisiontree.sav\",\"wb\"))\n",
        "    print(score)\n",
        "    break"
      ]
    },
    {
      "cell_type": "code",
      "execution_count": null,
      "metadata": {
        "id": "VhG5D8FLdbwh"
      },
      "outputs": [],
      "source": [
        "flag=True\n",
        "while flag:\n",
        "  xtrain,xtest,ytrain,ytest=train_test_split(X,y,test_size=0.2)\n",
        "  tree.fit(xtrain,ytrain)\n",
        "  pred_tree=tree.predict(xtest)\n",
        "  score =(accuracy_score(pred_tree,ytest))\n",
        "\n",
        "  # kk=input()\n",
        "  if score>=0.92:\n",
        "    import pickle\n",
        "    pickle.dump(tree,open(\"decisiontreemodel.sav\",\"wb\"))\n",
        "    print(\"Accuracay score: \",score)\n",
        "    flag=False"
      ]
    },
    {
      "cell_type": "code",
      "execution_count": null,
      "metadata": {
        "id": "xcHHP8cNdf1n"
      },
      "outputs": [],
      "source": [
        "model=pickle.load(open(\"decisiontreemodel.sav\",\"rb\"))"
      ]
    },
    {
      "cell_type": "code",
      "execution_count": null,
      "metadata": {
        "id": "ghEO5jIMdgqN"
      },
      "outputs": [],
      "source": [
        "accuracy_score(model.predict(xtest),ytest)"
      ]
    }
  ],
  "metadata": {
    "colab": {
      "name": "cars268.ipynb",
      "provenance": [],
      "authorship_tag": "ABX9TyPwqpM7kRiCVpWXGAHRR9yd",
      "include_colab_link": true
    },
    "kernelspec": {
      "display_name": "Python 3",
      "name": "python3"
    },
    "language_info": {
      "name": "python"
    }
  },
  "nbformat": 4,
  "nbformat_minor": 0
}